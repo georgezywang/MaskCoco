{
 "cells": [
  {
   "cell_type": "code",
   "execution_count": null,
   "metadata": {},
   "outputs": [],
   "source": [
    "from CocoVisualizer import CocoDataset\n",
    "import IPython\n",
    "\n",
    "instances_json_path = \"images/dat.json\"\n",
    "images_path = \"images\"\n",
    "coco_dataset = CocoDataset(instances_json_path, images_path)\n",
    "html = coco_dataset.display_image(1)\n",
    "IPython.display.HTML(html)"
   ]
  },
  {
   "cell_type": "code",
   "execution_count": null,
   "metadata": {},
   "outputs": [],
   "source": [
    "#install detectron2\n",
    "!pip install detectron2 -f https://dl.fbaipublicfiles.com/detectron2/wheels/cu101/torch1.6/index.html"
   ]
  },
  {
   "cell_type": "code",
   "execution_count": null,
   "metadata": {},
   "outputs": [],
   "source": [
    "#use the detectron2 visualization tool\n",
    "from detectron2.data.datasets import register_coco_instances\n",
    "import random\n",
    "from detectron2.utils.visualizer import Visualizer\n",
    "register_coco_instances(\"dataSet\", {}, \"images/dat.json\", \"images\")\n",
    "my_dataset_train_metadata = MetadataCatalog.get(\"dataSet\")\n",
    "dataset_dicts = DatasetCatalog.get(\"dataSet\")\n",
    "for d in random.sample(dataset_dicts, 1):\n",
    "    img = cv2.imread(d[\"file_name\"])\n",
    "    visualizer = Visualizer(img[:, :, ::-1], metadata=my_dataset_train_metadata, scale=0.5)\n",
    "    vis = visualizer.draw_dataset_dict(d)\n",
    "    cv2_imshow(vis.get_image()[:, :, ::-1])"
   ]
  }
 ],
 "metadata": {
  "kernelspec": {
   "display_name": "Python 3",
   "language": "python",
   "name": "python3"
  },
  "language_info": {
   "codemirror_mode": {
    "name": "ipython",
    "version": 3
   },
   "file_extension": ".py",
   "mimetype": "text/x-python",
   "name": "python",
   "nbconvert_exporter": "python",
   "pygments_lexer": "ipython3",
   "version": "3.8.3"
  }
 },
 "nbformat": 4,
 "nbformat_minor": 4
}
