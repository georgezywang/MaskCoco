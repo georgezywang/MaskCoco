{
 "cells": [
  {
   "cell_type": "code",
   "execution_count": null,
   "metadata": {},
   "outputs": [],
   "source": [
    "from CocoVisualizer import CocoDataset\n",
    "import IPython\n",
    "\n",
    "instances_json_path = \"images/dat.json\"\n",
    "images_path = \"images\"\n",
    "coco_dataset = CocoDataset(instances_json_path, images_path)\n",
    "html = coco_dataset.display_image(1)\n",
    "IPython.display.HTML(html)"
   ]
  }
 ],
 "metadata": {
  "kernelspec": {
   "display_name": "Python 3",
   "language": "python",
   "name": "python3"
  },
  "language_info": {
   "codemirror_mode": {
    "name": "ipython",
    "version": 3
   },
   "file_extension": ".py",
   "mimetype": "text/x-python",
   "name": "python",
   "nbconvert_exporter": "python",
   "pygments_lexer": "ipython3",
   "version": "3.8.3"
  }
 },
 "nbformat": 4,
 "nbformat_minor": 4
}
